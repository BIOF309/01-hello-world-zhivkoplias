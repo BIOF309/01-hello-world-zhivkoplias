{
 "cells": [
  {
   "cell_type": "code",
   "execution_count": 29,
   "metadata": {},
   "outputs": [
    {
     "name": "stdout",
     "output_type": "stream",
     "text": [
      "What would you like to know about today, luv?\n",
      "NIH\n"
     ]
    },
    {
     "data": {
      "image/png": "[encoded data removed]",
      "text/plain": [
       "<IPython.core.display.Image object>"
      ]
     },
     "metadata": {},
     "output_type": "display_data"
    },
    {
     "name": "stdout",
     "output_type": "stream",
     "text": [
      "NIH is the primary agency of the United States government responsible for biomedical and public health research, founded in the late 1870s....beautiful indeed\n"
     ]
    }
   ],
   "source": [
    "# \"Explain me like I'm Five BEAUTIFUL DICTIONARY\"\n",
    "# generates a quick fact sheet from Wiki database based on user's query\n",
    "\n",
    "import requests\n",
    "from bs4 import BeautifulSoup\n",
    "import re\n",
    "from IPython.core.display import Image, display\n",
    "\n",
    "print('What would you like to know about today, luv?')\n",
    "query = str(input())\n",
    "\n",
    "response = requests.get(\"https://en.wikipedia.org/wiki/\"+ query ) # generating a link\n",
    "txt = response.content\n",
    "\n",
    "soup = BeautifulSoup(txt,'lxml')\n",
    "for imgtag in soup('img'): # parsing html for any first image\n",
    "    link = 'http:' + imgtag['src']\n",
    "    display(Image(link)) #doesn't work very well, but I couldn't come up with a good rule here\n",
    "    break\n",
    "\n",
    "fact_sheet = soup.p.get_text()\n",
    "key_fact = re.split(r'(?<=[^A-Z].[.?]) +(?=[A-Z])', fact_sheet)\n",
    "for i in key_fact:\n",
    "    search = re.findall(\"is.([^\\>]*)\", i) #parsing html for the first sentence with IS key word\n",
    "    if search != []:\n",
    "        print(query + ' is' + ' ' + str(search[0]) + '...beautiful indeed')\n",
    "        break\n",
    "    else:\n",
    "        print('Sorry! Have no idea. Is it something beautiful?')\n"
   ]
  }
 ],
 "metadata": {
  "kernelspec": {
   "display_name": "Python 3",
   "language": "python",
   "name": "python3"
  },
  "language_info": {
   "codemirror_mode": {
    "name": "ipython",
    "version": 3
   },
   "file_extension": ".py",
   "mimetype": "text/x-python",
   "name": "python",
   "nbconvert_exporter": "python",
   "pygments_lexer": "ipython3",
   "version": "3.6.1"
  }
 },
 "nbformat": 4,
 "nbformat_minor": 2
}
